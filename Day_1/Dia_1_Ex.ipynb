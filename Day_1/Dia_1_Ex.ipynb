{
 "cells": [
  {
   "cell_type": "markdown",
   "id": "e5e2d2ba",
   "metadata": {},
   "source": [
    "# Workshop Dia 1"
   ]
  }
 ],
 "metadata": {
  "language_info": {
   "name": "python"
  }
 },
 "nbformat": 4,
 "nbformat_minor": 5
}
